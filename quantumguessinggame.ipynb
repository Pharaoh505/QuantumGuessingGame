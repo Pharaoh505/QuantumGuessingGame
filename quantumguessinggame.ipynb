{
 "cells": [
  {
   "cell_type": "code",
   "execution_count": 1,
   "metadata": {},
   "outputs": [
    {
     "name": "stdout",
     "output_type": "stream",
     "text": [
      "Welcome to the Quantum Guessing Game!\n",
      "I have a qubit in a certain state. Try to guess its state after measurement.\n",
      "The possible states are '|0⟩' and '|1⟩'.\n",
      "Sometimes, the qubit might be in a superposition, so it could be either '|0⟩' or '|1⟩' with equal probability.\n",
      "The qubit is prepared in a state.\n",
      "The qubit was measured in state |1⟩.\n",
      "Sorry, your guess was incorrect.\n",
      "Thank you for playing the Quantum Guessing Game!\n"
     ]
    }
   ],
   "source": [
    "import random\n",
    "\n",
    "def measure_qubit(state):\n",
    "    \"\"\"Simulate the measurement of a qubit.\"\"\"\n",
    "    if state == '|0⟩':\n",
    "        return '|0⟩' if random.random() < 1.0 else '|1⟩'\n",
    "    elif state == '|1⟩':\n",
    "        return '|1⟩' if random.random() < 1.0 else '|0⟩'\n",
    "    elif state == 'superposition':\n",
    "        return '|0⟩' if random.random() < 0.5 else '|1⟩'\n",
    "\n",
    "def quantum_game():\n",
    "    print(\"Welcome to the Quantum Guessing Game!\")\n",
    "    print(\"I have a qubit in a certain state. Try to guess its state after measurement.\")\n",
    "    print(\"The possible states are '|0⟩' and '|1⟩'.\")\n",
    "    print(\"Sometimes, the qubit might be in a superposition, so it could be either '|0⟩' or '|1⟩' with equal probability.\")\n",
    "    \n",
    "    state = random.choice(['|0⟩', '|1⟩', 'superposition'])\n",
    "    print(f\"The qubit is prepared in a state.\")\n",
    "    \n",
    "    guess = input(\"Guess the state after measurement (|0⟩ or |1⟩): \").strip()\n",
    "    \n",
    "    measured_state = measure_qubit(state)\n",
    "    print(f\"The qubit was measured in state {measured_state}.\")\n",
    "    \n",
    "    if guess == measured_state:\n",
    "        print(\"Congratulations! You guessed correctly.\")\n",
    "    else:\n",
    "        print(\"Sorry, your guess was incorrect.\")\n",
    "    \n",
    "    print(\"Thank you for playing the Quantum Guessing Game!\")\n",
    "\n",
    "quantum_game()\n"
   ]
  }
 ],
 "metadata": {
  "kernelspec": {
   "display_name": "qiskit-env",
   "language": "python",
   "name": "python3"
  },
  "language_info": {
   "codemirror_mode": {
    "name": "ipython",
    "version": 3
   },
   "file_extension": ".py",
   "mimetype": "text/x-python",
   "name": "python",
   "nbconvert_exporter": "python",
   "pygments_lexer": "ipython3",
   "version": "3.8.20"
  }
 },
 "nbformat": 4,
 "nbformat_minor": 2
}
